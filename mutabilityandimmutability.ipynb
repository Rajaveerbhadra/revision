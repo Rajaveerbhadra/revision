{
 "cells": [
  {
   "cell_type": "code",
   "execution_count": 1,
   "id": "74de288f-8db2-4e67-93a7-ae5d0400fccc",
   "metadata": {},
   "outputs": [],
   "source": [
    "s=\"pras\""
   ]
  },
  {
   "cell_type": "code",
   "execution_count": 2,
   "id": "eae14008-e0bc-4835-816b-55a2d9f12a76",
   "metadata": {},
   "outputs": [
    {
     "data": {
      "text/plain": [
       "'a'"
      ]
     },
     "execution_count": 2,
     "metadata": {},
     "output_type": "execute_result"
    }
   ],
   "source": [
    "s[2]"
   ]
  },
  {
   "cell_type": "code",
   "execution_count": 3,
   "id": "45456994-fabf-458b-afd8-c0504bd8d7e0",
   "metadata": {},
   "outputs": [
    {
     "data": {
      "text/plain": [
       "'a'"
      ]
     },
     "execution_count": 3,
     "metadata": {},
     "output_type": "execute_result"
    }
   ],
   "source": [
    "s[-2]"
   ]
  },
  {
   "cell_type": "code",
   "execution_count": 4,
   "id": "326fc08e-b2ac-4cc3-990f-11fe8f793cec",
   "metadata": {},
   "outputs": [],
   "source": [
    "l = [1,2,3,4,5,6,\"pras\" , 'pwskills' , True, 4+7j]"
   ]
  },
  {
   "cell_type": "code",
   "execution_count": 5,
   "id": "0e0a8398-698f-4c55-a473-e9fc8b18381a",
   "metadata": {},
   "outputs": [
    {
     "data": {
      "text/plain": [
       "list"
      ]
     },
     "execution_count": 5,
     "metadata": {},
     "output_type": "execute_result"
    }
   ],
   "source": [
    "type(l)"
   ]
  },
  {
   "cell_type": "code",
   "execution_count": 6,
   "id": "29768fab-48e9-449c-8ef1-4c32473e6e16",
   "metadata": {},
   "outputs": [
    {
     "data": {
      "text/plain": [
       "True"
      ]
     },
     "execution_count": 6,
     "metadata": {},
     "output_type": "execute_result"
    }
   ],
   "source": [
    "l[8]"
   ]
  },
  {
   "cell_type": "code",
   "execution_count": 7,
   "id": "9523c5c3-b459-416b-8d06-f70b2a285023",
   "metadata": {},
   "outputs": [
    {
     "data": {
      "text/plain": [
       "True"
      ]
     },
     "execution_count": 7,
     "metadata": {},
     "output_type": "execute_result"
    }
   ],
   "source": [
    "l[-2]"
   ]
  },
  {
   "cell_type": "code",
   "execution_count": 8,
   "id": "05256105-4adc-4482-ac74-4bc651de3c43",
   "metadata": {},
   "outputs": [
    {
     "data": {
      "text/plain": [
       "'pras'"
      ]
     },
     "execution_count": 8,
     "metadata": {},
     "output_type": "execute_result"
    }
   ],
   "source": [
    "s"
   ]
  },
  {
   "cell_type": "code",
   "execution_count": 9,
   "id": "67ca0dfc-8072-4421-90c7-ec66cf50cd62",
   "metadata": {},
   "outputs": [
    {
     "data": {
      "text/plain": [
       "[1, 2, 3, 4, 5, 6, 'pras', 'pwskills', True, (4+7j)]"
      ]
     },
     "execution_count": 9,
     "metadata": {},
     "output_type": "execute_result"
    }
   ],
   "source": [
    "l"
   ]
  },
  {
   "cell_type": "code",
   "execution_count": 10,
   "id": "4a640047-8afc-464c-a681-dca7afc43bc8",
   "metadata": {},
   "outputs": [
    {
     "data": {
      "text/plain": [
       "'pras'"
      ]
     },
     "execution_count": 10,
     "metadata": {},
     "output_type": "execute_result"
    }
   ],
   "source": [
    "l[6]"
   ]
  },
  {
   "cell_type": "code",
   "execution_count": 11,
   "id": "30d687f1-3ab1-4a7c-8caf-df0e68f9c094",
   "metadata": {},
   "outputs": [],
   "source": [
    "l[6] = 100"
   ]
  },
  {
   "cell_type": "code",
   "execution_count": 12,
   "id": "3ef036e5-0d4b-48b0-ae05-28b0329ea702",
   "metadata": {},
   "outputs": [
    {
     "data": {
      "text/plain": [
       "[1, 2, 3, 4, 5, 6, 100, 'pwskills', True, (4+7j)]"
      ]
     },
     "execution_count": 12,
     "metadata": {},
     "output_type": "execute_result"
    }
   ],
   "source": [
    "l"
   ]
  },
  {
   "cell_type": "code",
   "execution_count": 13,
   "id": "9978ce13-dcf5-46b8-8d62-11b5c44e8c21",
   "metadata": {},
   "outputs": [
    {
     "data": {
      "text/plain": [
       "'pras'"
      ]
     },
     "execution_count": 13,
     "metadata": {},
     "output_type": "execute_result"
    }
   ],
   "source": [
    "s"
   ]
  },
  {
   "cell_type": "code",
   "execution_count": 15,
   "id": "eb2ae815-8095-4b3f-988a-5d39ed3af37a",
   "metadata": {},
   "outputs": [
    {
     "ename": "TypeError",
     "evalue": "'str' object does not support item assignment",
     "output_type": "error",
     "traceback": [
      "\u001b[0;31m---------------------------------------------------------------------------\u001b[0m",
      "\u001b[0;31mTypeError\u001b[0m                                 Traceback (most recent call last)",
      "Cell \u001b[0;32mIn[15], line 1\u001b[0m\n\u001b[0;32m----> 1\u001b[0m \u001b[43ms\u001b[49m\u001b[43m[\u001b[49m\u001b[38;5;241;43m2\u001b[39;49m\u001b[43m]\u001b[49m \u001b[38;5;241m=\u001b[39m \u001b[38;5;124m'\u001b[39m\u001b[38;5;124ms\u001b[39m\u001b[38;5;124m'\u001b[39m\n",
      "\u001b[0;31mTypeError\u001b[0m: 'str' object does not support item assignment"
     ]
    }
   ],
   "source": [
    "s[2] = 's'"
   ]
  },
  {
   "cell_type": "code",
   "execution_count": 16,
   "id": "dd591e03-8751-45fa-b7ef-d83cddebaf12",
   "metadata": {},
   "outputs": [],
   "source": [
    "s = 'pras'"
   ]
  },
  {
   "cell_type": "code",
   "execution_count": 17,
   "id": "b842f944-9af7-400c-8043-68880f2e617b",
   "metadata": {},
   "outputs": [],
   "source": [
    "l[6] = 'pras'"
   ]
  },
  {
   "cell_type": "code",
   "execution_count": 18,
   "id": "4909408e-afc5-4010-a818-d0f96b1c95f2",
   "metadata": {},
   "outputs": [
    {
     "data": {
      "text/plain": [
       "[1, 2, 3, 4, 5, 6, 'pras', 'pwskills', True, (4+7j)]"
      ]
     },
     "execution_count": 18,
     "metadata": {},
     "output_type": "execute_result"
    }
   ],
   "source": [
    "l"
   ]
  },
  {
   "cell_type": "code",
   "execution_count": 19,
   "id": "ac5b58e9-7ec2-4f5f-a27d-02a726fb9252",
   "metadata": {},
   "outputs": [
    {
     "data": {
      "text/plain": [
       "'pras'"
      ]
     },
     "execution_count": 19,
     "metadata": {},
     "output_type": "execute_result"
    }
   ],
   "source": [
    "s"
   ]
  },
  {
   "cell_type": "code",
   "execution_count": null,
   "id": "3322077c-8057-401a-baaf-eb73b49c41fa",
   "metadata": {},
   "outputs": [],
   "source": []
  }
 ],
 "metadata": {
  "kernelspec": {
   "display_name": "Python 3 (ipykernel)",
   "language": "python",
   "name": "python3"
  },
  "language_info": {
   "codemirror_mode": {
    "name": "ipython",
    "version": 3
   },
   "file_extension": ".py",
   "mimetype": "text/x-python",
   "name": "python",
   "nbconvert_exporter": "python",
   "pygments_lexer": "ipython3",
   "version": "3.10.8"
  }
 },
 "nbformat": 4,
 "nbformat_minor": 5
}
